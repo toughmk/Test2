{
 "cells": [
  {
   "cell_type": "code",
   "execution_count": 2,
   "metadata": {},
   "outputs": [
    {
     "name": "stdout",
     "output_type": "stream",
     "text": [
      "나무를 1번 찍었습니다.\n",
      "나무를 2번 찍었습니다.\n",
      "나무를 3번 찍었습니다.\n",
      "나무를 4번 찍었습니다.\n",
      "나무를 5번 찍었습니다.\n",
      "나무를 6번 찍었습니다.\n",
      "나무를 7번 찍었습니다.\n",
      "나무를 8번 찍었습니다.\n",
      "나무를 9번 찍었습니다.\n",
      "나무를 10번 찍었습니다.\n",
      "나무 넘어갑니다.\n"
     ]
    }
   ],
   "source": [
    "treeHit=0\n",
    "while treeHit <10:\n",
    "    treeHit=treeHit+1\n",
    "    print(\"나무를 %d번 찍었습니다.\" %treeHit)\n",
    "    if treeHit ==10:\n",
    "         print(\"나무 넘어갑니다.\")"
   ]
  },
  {
   "cell_type": "code",
   "execution_count": 3,
   "metadata": {},
   "outputs": [
    {
     "name": "stdout",
     "output_type": "stream",
     "text": [
      "*\n",
      "**\n",
      "***\n",
      "****\n",
      "*****\n"
     ]
    }
   ],
   "source": [
    "i=0\n",
    "while i<5:\n",
    "    i=i+1\n",
    "    print(\"*\"*i)"
   ]
  },
  {
   "cell_type": "code",
   "execution_count": 4,
   "metadata": {},
   "outputs": [
    {
     "name": "stdout",
     "output_type": "stream",
     "text": [
      "돈을 받았으니 커피를 줍니다\n",
      "남은 커피의 양은 9개 입니다.\n",
      "돈을 받았으니 커피를 줍니다\n",
      "남은 커피의 양은 8개 입니다.\n",
      "돈을 받았으니 커피를 줍니다\n",
      "남은 커피의 양은 7개 입니다.\n",
      "돈을 받았으니 커피를 줍니다\n",
      "남은 커피의 양은 6개 입니다.\n",
      "돈을 받았으니 커피를 줍니다\n",
      "남은 커피의 양은 5개 입니다.\n",
      "돈을 받았으니 커피를 줍니다\n",
      "남은 커피의 양은 4개 입니다.\n",
      "돈을 받았으니 커피를 줍니다\n",
      "남은 커피의 양은 3개 입니다.\n",
      "돈을 받았으니 커피를 줍니다\n",
      "남은 커피의 양은 2개 입니다.\n",
      "돈을 받았으니 커피를 줍니다\n",
      "남은 커피의 양은 1개 입니다.\n",
      "돈을 받았으니 커피를 줍니다\n",
      "남은 커피의 양은 0개 입니다.\n",
      "커피가 다 떨어졌습니다. 판매를 중지합니다.\n"
     ]
    }
   ],
   "source": [
    "coffee=10\n",
    "money=300\n",
    "while money:\n",
    "    print(\"돈을 받았으니 커피를 줍니다\")\n",
    "    coffee=coffee-1\n",
    "    print(\"남은 커피의 양은 %d개 입니다.\" %coffee)\n",
    "    if not coffee:\n",
    "        print(\"커피가 다 떨어졌습니다. 판매를 중지합니다.\")\n",
    "        break\n",
    "        "
   ]
  },
  {
   "cell_type": "markdown",
   "metadata": {},
   "source": [
    "## 레벨 1 도장깨기-HTML"
   ]
  },
  {
   "cell_type": "code",
   "execution_count": 14,
   "metadata": {},
   "outputs": [],
   "source": [
    "import requests\n",
    "from bs4 import BeautifulSoup\n",
    "\n",
    "lv1_url = 'https://askdjango.github.io/lv1/'\n",
    "html = requests.get(lvl_url).text\n",
    "#print(html)\n",
    "Soup = BeautifulSoup(html, 'html.parser')\n",
    "\n",
    "for tag in Soup.select('#course_list > .course > a'):\n",
    "    print(tag.text, tag['href'])"
   ]
  },
  {
   "cell_type": "code",
   "execution_count": 17,
   "metadata": {},
   "outputs": [
    {
     "name": "stdout",
     "output_type": "stream",
     "text": [
      "개발환경 구축하기\n",
      "파이썬 차근차근 시작하기\n",
      "크롤링 차근차근 시작하기\n",
      "파이썬으로 업무 자동화\n",
      "장고 - 기본편\n",
      "장고걸스 튜토리얼\n",
      "장고 - Form/ModelForm 잘 알고 쓰기\n",
      "장고 - 클래스 기반 뷰. 잘 알고 쓰기\n",
      "장고 - 결제 시스템 연동\n",
      "장고 - 웹 프론트엔드 시작편\n",
      "장고 - 다양한 위젯 만들기\n",
      "장고 - API 서버 만들기 및 초간단 안드로이드 앱 만들기\n",
      "장고 - 하이브리드 앱 만들기\n",
      "장고 - 서비스 배포하기\n",
      "장고 - 실전편 (Feat. 배달의 민족 St. 만들기)\n",
      "장고 - 실전편 (Feat. 인스타그램 St. 만들기)\n"
     ]
    }
   ],
   "source": [
    "import requests   #서버-클라이언트 응답 함수 쓸 수 있는 모듈\n",
    "from bs4 import BeautifulSoup    # html 문서 파싱(나누는) 도구\n",
    "\n",
    "lv1_url = 'https://askdjango.github.io/lv1/'    #url\n",
    "html = requests.get(lv1_url).text               #\n",
    "Soup = BeautifulSoup(html,'html.parser')\n",
    "\n",
    "for tag in Soup.select('#course_list > .course > a'):\n",
    "    print(tag.text)"
   ]
  },
  {
   "cell_type": "markdown",
   "metadata": {},
   "source": [
    "## 레벨 2 도장깨기-HTML 사이트 크롤링"
   ]
  },
  {
   "cell_type": "code",
   "execution_count": null,
   "metadata": {
    "collapsed": true
   },
   "outputs": [],
   "source": [
    "import requests\n",
    "\n",
    "course_list = requests.get('https://askdjango.github.io/lv2/data.json').json()\n",
    "\n",
    "for course in course_list"
   ]
  }
 ],
 "metadata": {
  "kernelspec": {
   "display_name": "Python 3",
   "language": "python",
   "name": "python3"
  },
  "language_info": {
   "codemirror_mode": {
    "name": "ipython",
    "version": 3
   },
   "file_extension": ".py",
   "mimetype": "text/x-python",
   "name": "python",
   "nbconvert_exporter": "python",
   "pygments_lexer": "ipython3",
   "version": "3.6.1"
  }
 },
 "nbformat": 4,
 "nbformat_minor": 2
}
